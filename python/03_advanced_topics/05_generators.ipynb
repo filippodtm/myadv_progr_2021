{
 "cells": [
  {
   "cell_type": "markdown",
   "metadata": {},
   "source": [
    "## Generators, iterables, and iterators"
   ]
  },
  {
   "cell_type": "code",
   "execution_count": 2,
   "metadata": {},
   "outputs": [
    {
     "data": {
      "text/plain": [
       "[0, 1, 2, 3, 4, 5, 6, 7, 8, 9]"
      ]
     },
     "execution_count": 2,
     "metadata": {},
     "output_type": "execute_result"
    }
   ],
   "source": [
    "a = list(range(10))\n",
    "a"
   ]
  },
  {
   "cell_type": "code",
   "execution_count": 9,
   "metadata": {},
   "outputs": [
    {
     "data": {
      "text/plain": [
       "1"
      ]
     },
     "execution_count": 9,
     "metadata": {},
     "output_type": "execute_result"
    }
   ],
   "source": [
    "it = iter(a) # __iter__ method\n",
    "it\n",
    "\n",
    "# it= ITERATOR: allows to iterate through the data (li passa uno a uno).   must have the method __next__\n",
    "\n",
    "# a = ITERABLE: whatever can be iterated through\n",
    "#           must have the __iter__ method defined\n",
    "\n",
    "next(it)\n",
    "next(it)\n",
    "#next(it)\n",
    "\n",
    "\n",
    "#help(iter)\n"
   ]
  },
  {
   "cell_type": "code",
   "execution_count": 7,
   "metadata": {
    "tags": []
   },
   "outputs": [
    {
     "name": "stdout",
     "output_type": "stream",
     "text": [
      "IV\n",
      "3\n",
      "second\n",
      "first\n"
     ]
    }
   ],
   "source": [
    "class rev_it:\n",
    "    def __init__(self,data):\n",
    "        self.data = data\n",
    "        self.index = len(data)\n",
    "\n",
    "    def __next__(self):\n",
    "        if self.index == 0:\n",
    "            raise StopIteration\n",
    "        self.index = self.index - 1\n",
    "        return self.data[self.index]\n",
    "\n",
    "    \n",
    "# taken from Python documentation\n",
    "class Reverse:\n",
    "    \"\"\"iterable.\"\"\"\n",
    "\n",
    "    def __init__(self, data):\n",
    "        self.data = data\n",
    "\n",
    "    def __iter__(self):   \n",
    "        return rev_it(self.data)\n",
    "\n",
    "\n",
    "for i in Reverse( (\"first\", \"second\", 3, \"IV\")  ):\n",
    "    print(i)"
   ]
  },
  {
   "cell_type": "code",
   "execution_count": 13,
   "metadata": {
    "tags": []
   },
   "outputs": [
    {
     "name": "stdout",
     "output_type": "stream",
     "text": [
      "IV\n",
      "3\n",
      "second\n",
      "first\n"
     ]
    }
   ],
   "source": [
    "#ok\n",
    "#taken from Python documentation\n",
    "class Reverse:\n",
    "    \"\"\"Iterator for looping over a sequence backwards.\"\"\"\n",
    "\n",
    "    def __init__(self, data):\n",
    "        self.data = data\n",
    "        self.index = len(data)\n",
    "\n",
    "    def __iter__(self):\n",
    "        return self\n",
    "    \n",
    "    def __next__(self):\n",
    "        if self.index == 0:\n",
    "            raise StopIteration    #!!!\n",
    "        self.index = self.index - 1\n",
    "        return self.data[self.index]\n",
    "\n",
    "\n",
    "for i in Reverse(  (\"first\", \"second\", 3, \"IV\")  ):\n",
    "    print(i)"
   ]
  },
  {
   "cell_type": "code",
   "execution_count": 19,
   "metadata": {
    "tags": []
   },
   "outputs": [
    {
     "name": "stdout",
     "output_type": "stream",
     "text": [
      "IV\n",
      "3\n",
      "second\n",
      "first\n",
      "let's loop again...\n"
     ]
    }
   ],
   "source": [
    "#ok\n",
    "rev = Reverse((\"first\", \"second\", 3, \"IV\"))  \n",
    "print(next(rev))\n",
    "print(next(rev))\n",
    "print(next(rev))\n",
    "print(next(rev))              #stessa cosa che la class qui sopra..\n",
    "\n",
    "print(\"let's loop again...\")\n",
    "for i in rev:\n",
    "    print(i)     #non printa niente: chiama next che raiserà stopiteration"
   ]
  },
  {
   "cell_type": "code",
   "execution_count": 2,
   "metadata": {},
   "outputs": [
    {
     "name": "stdout",
     "output_type": "stream",
     "text": [
      "IV\n",
      "3\n",
      "second\n",
      "first\n"
     ]
    }
   ],
   "source": [
    "#GENERATOR: ggetti returned da functions that have a yield\n",
    "          # the object returned by reverse(data)\n",
    "\n",
    "    #queste 3 righe sono come la Reverse\n",
    "def reverse(data):\n",
    "    for x in data[::-1]:\n",
    "        yield x    #yield instead of return: remembers what happened before\n",
    "\n",
    "for i in reverse((\"first\", \"second\", 3, \"IV\")):\n",
    "    print(i)"
   ]
  },
  {
   "cell_type": "code",
   "execution_count": 17,
   "metadata": {},
   "outputs": [
    {
     "data": {
      "text/plain": [
       "generator"
      ]
     },
     "execution_count": 17,
     "metadata": {},
     "output_type": "execute_result"
    }
   ],
   "source": [
    "#a=(\"first\", \"second\", 3, \"IV\")\n",
    "#a[::-1]\n",
    "type( reverse([1,2]) )"
   ]
  },
  {
   "cell_type": "markdown",
   "metadata": {},
   "source": [
    "### Generator expressions\n",
    "\n",
    "espressioni di Generatori"
   ]
  },
  {
   "cell_type": "code",
   "execution_count": 23,
   "metadata": {},
   "outputs": [
    {
     "data": {
      "text/plain": [
       "[0, 2, 4, 6, 8]"
      ]
     },
     "execution_count": 23,
     "metadata": {},
     "output_type": "execute_result"
    }
   ],
   "source": [
    "[n for n in range(10) if n % 2 == 0]    #LIST compr"
   ]
  },
  {
   "cell_type": "code",
   "execution_count": 14,
   "metadata": {},
   "outputs": [
    {
     "data": {
      "text/plain": [
       "<generator object <genexpr> at 0x7f26947a6c80>"
      ]
     },
     "execution_count": 14,
     "metadata": {},
     "output_type": "execute_result"
    }
   ],
   "source": [
    "(n for n in range(10) if n % 2 == 0)     #generator expression. NOT a tuple comprehension"
   ]
  },
  {
   "cell_type": "code",
   "execution_count": 20,
   "metadata": {},
   "outputs": [
    {
     "name": "stdout",
     "output_type": "stream",
     "text": [
      "0\n",
      "2\n",
      "4\n",
      "6\n",
      "8\n"
     ]
    }
   ],
   "source": [
    "for i in (n for n in range(10) if n % 2 == 0):\n",
    "    print(i)\n",
    "    ''' these numbers are not computed all 5, stored and then accessed one by one. \n",
    "    only one element at a time is stored in memory\n",
    "    ''' \n",
    "#i can have a generator expression that gives an infinite number of objects,\n",
    "# but occupies a finite portion of memory "
   ]
  },
  {
   "cell_type": "code",
   "execution_count": 31,
   "metadata": {},
   "outputs": [
    {
     "data": {
      "text/plain": [
       "<generator object <genexpr> at 0x7f01cf093dd0>"
      ]
     },
     "execution_count": 31,
     "metadata": {},
     "output_type": "execute_result"
    }
   ],
   "source": [
    "g = (n for n in range(10) if n % 2 == 0)\n",
    "g"
   ]
  },
  {
   "cell_type": "code",
   "execution_count": 34,
   "metadata": {},
   "outputs": [
    {
     "data": {
      "text/plain": [
       "4"
      ]
     },
     "execution_count": 34,
     "metadata": {},
     "output_type": "execute_result"
    }
   ],
   "source": [
    "next(g)   #su un generator posso chiamare next()"
   ]
  },
  {
   "cell_type": "markdown",
   "metadata": {},
   "source": [
    "## Generators can be chained"
   ]
  },
  {
   "cell_type": "code",
   "execution_count": 35,
   "metadata": {},
   "outputs": [
    {
     "name": "stdout",
     "output_type": "stream",
     "text": [
      "0\n",
      "-4\n",
      "-16\n",
      "-36\n",
      "-64\n"
     ]
    }
   ],
   "source": [
    "even_integers = (n for n in range(10) if not n % 2)\n",
    "squared = (n * n for n in even_integers)\n",
    "negated = (-n for n in squared)\n",
    "\n",
    "for i in negated:\n",
    "    print(i)\n",
    "#i don't store in memory all the images but only one at a time  (SHEESH)"
   ]
  },
  {
   "cell_type": "code",
   "execution_count": 35,
   "metadata": {},
   "outputs": [
    {
     "data": {
      "text/plain": [
       "generator"
      ]
     },
     "execution_count": 35,
     "metadata": {},
     "output_type": "execute_result"
    }
   ],
   "source": [
    "type(negated)"
   ]
  },
  {
   "cell_type": "code",
   "execution_count": 36,
   "metadata": {},
   "outputs": [
    {
     "data": {
      "text/plain": [
       "<generator object <genexpr> at 0x7f01cee05350>"
      ]
     },
     "execution_count": 36,
     "metadata": {},
     "output_type": "execute_result"
    }
   ],
   "source": [
    "(-n*n for n in range(10) if not n%2 )"
   ]
  }
 ],
 "metadata": {
  "kernelspec": {
   "display_name": "Python 3 (ipykernel)",
   "language": "python",
   "name": "python3"
  },
  "language_info": {
   "codemirror_mode": {
    "name": "ipython",
    "version": 3
   },
   "file_extension": ".py",
   "mimetype": "text/x-python",
   "name": "python",
   "nbconvert_exporter": "python",
   "pygments_lexer": "ipython3",
   "version": "3.9.7"
  }
 },
 "nbformat": 4,
 "nbformat_minor": 4
}
