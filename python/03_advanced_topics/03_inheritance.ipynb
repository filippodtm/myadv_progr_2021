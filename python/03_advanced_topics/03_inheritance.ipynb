{
 "cells": [
  {
   "cell_type": "markdown",
   "metadata": {},
   "source": [
    "##  Inheritance\n",
    " - instead of duck typing"
   ]
  },
  {
   "cell_type": "code",
   "execution_count": 3,
   "metadata": {},
   "outputs": [
    {
     "name": "stdout",
     "output_type": "stream",
     "text": [
      "unknown\n",
      "Bau\n"
     ]
    },
    {
     "data": {
      "text/plain": [
       "99"
      ]
     },
     "execution_count": 3,
     "metadata": {},
     "output_type": "execute_result"
    }
   ],
   "source": [
    "class Animal:\n",
    "    def __init__(self):\n",
    "        self.age = 99\n",
    "\n",
    "    def speak(self):\n",
    "        print(\"unknown\")\n",
    "\n",
    "\n",
    "class Dog(Animal) :\n",
    "    def speak(self):\n",
    "        print(\"Bau\")\n",
    "        #super().speak()\n",
    "\n",
    "\n",
    "d = Dog()\n",
    "super(Dog,d).speak()\n",
    "d.speak()\n",
    "d.age"
   ]
  },
  {
   "cell_type": "code",
   "execution_count": 8,
   "metadata": {
    "tags": []
   },
   "outputs": [
    {
     "name": "stdout",
     "output_type": "stream",
     "text": [
      "Help on class super in module builtins:\n",
      "\n",
      "class super(object)\n",
      " |  super() -> same as super(__class__, <first argument>)\n",
      " |  super(type) -> unbound super object\n",
      " |  super(type, obj) -> bound super object; requires isinstance(obj, type)\n",
      " |  super(type, type2) -> bound super object; requires issubclass(type2, type)\n",
      " |  Typical use to call a cooperative superclass method:\n",
      " |  class C(B):\n",
      " |      def meth(self, arg):\n",
      " |          super().meth(arg)\n",
      " |  This works for class methods too:\n",
      " |  class C(B):\n",
      " |      @classmethod\n",
      " |      def cmeth(cls, arg):\n",
      " |          super().cmeth(arg)\n",
      " |  \n",
      " |  Methods defined here:\n",
      " |  \n",
      " |  __get__(self, instance, owner, /)\n",
      " |      Return an attribute of instance, which is of type owner.\n",
      " |  \n",
      " |  __getattribute__(self, name, /)\n",
      " |      Return getattr(self, name).\n",
      " |  \n",
      " |  __init__(self, /, *args, **kwargs)\n",
      " |      Initialize self.  See help(type(self)) for accurate signature.\n",
      " |  \n",
      " |  __repr__(self, /)\n",
      " |      Return repr(self).\n",
      " |  \n",
      " |  ----------------------------------------------------------------------\n",
      " |  Static methods defined here:\n",
      " |  \n",
      " |  __new__(*args, **kwargs) from builtins.type\n",
      " |      Create and return a new object.  See help(type) for accurate signature.\n",
      " |  \n",
      " |  ----------------------------------------------------------------------\n",
      " |  Data descriptors defined here:\n",
      " |  \n",
      " |  __self__\n",
      " |      the instance invoking super(); may be None\n",
      " |  \n",
      " |  __self_class__\n",
      " |      the type of the instance invoking super(); may be None\n",
      " |  \n",
      " |  __thisclass__\n",
      " |      the class invoking super()\n",
      "\n"
     ]
    }
   ],
   "source": [
    "help(super)"
   ]
  },
  {
   "cell_type": "markdown",
   "metadata": {
    "tags": []
   },
   "source": [
    "### Method resolution order"
   ]
  },
  {
   "cell_type": "code",
   "execution_count": 9,
   "metadata": {},
   "outputs": [],
   "source": [
    "class A:\n",
    "    def __init__(self):\n",
    "        self._score = 42\n",
    "        self.__find_this = 99  # kind of private\n",
    "\n",
    "    def foo(self):\n",
    "        print(\"A foo\")"
   ]
  },
  {
   "cell_type": "code",
   "execution_count": 14,
   "metadata": {},
   "outputs": [],
   "source": [
    "a = A()\n",
    "# a.__find_this   dà errore\n",
    "a._A__find_this = 77 #in questo modo lo trovo e lo cambio\n",
    "\n",
    "# oneunderscore means private\n",
    "#two underscores means that i can access the thing by _A__ecc...  (non serve usarlo)"
   ]
  },
  {
   "cell_type": "code",
   "execution_count": 11,
   "metadata": {},
   "outputs": [
    {
     "name": "stdout",
     "output_type": "stream",
     "text": [
      "E foo\n",
      "_score 42\n",
      "C foo\n",
      "D foo\n",
      "A foo\n",
      "42\n",
      "(<class '__main__.E'>, <class '__main__.C'>, <class '__main__.B'>, <class '__main__.D'>, <class '__main__.A'>, <class 'object'>)\n"
     ]
    }
   ],
   "source": [
    "class B(A):\n",
    "    def foo(self):\n",
    "        print(\"B foo\")\n",
    "\n",
    "class C(A):\n",
    "    def foo(self):\n",
    "        print(\"C foo\")\n",
    "\n",
    "class D(A):\n",
    "    def foo(self):\n",
    "        print(\"D foo\")\n",
    "\n",
    "class E(C, B, D):         #dio\n",
    "    def foo(self):             \n",
    "        print(\"E foo\")\n",
    "        print(\"_score\", self._score)\n",
    "        # print(\"__find_this\", self.__find_this)\n",
    "        #print(\"__find_this\", self._A__find_this)\n",
    "\n",
    "    def bar(self):\n",
    "        self.foo()\n",
    "        super().foo()  #è quello di C    # can we predict which will be??\n",
    "        D.foo(self)  # unbound method --> you have to pass self\n",
    "        A.foo(self)\n",
    "        print(self._score)\n",
    "\n",
    "\n",
    "e = E()\n",
    "e.bar()\n",
    "print(E.__mro__)  #esce C subito dopo E => conta come super"
   ]
  },
  {
   "cell_type": "markdown",
   "metadata": {},
   "source": [
    "### Use `isinstance` and `issubclass`, instead of `type(x) == type(y)`"
   ]
  },
  {
   "cell_type": "code",
   "execution_count": 13,
   "metadata": {},
   "outputs": [
    {
     "name": "stdout",
     "output_type": "stream",
     "text": [
      "True\n",
      "False\n",
      "False\n",
      "True\n"
     ]
    }
   ],
   "source": [
    "print(isinstance(e, A))      #in c++ usavamo dynamic cast\n",
    "print(isinstance(e, dict))\n",
    "print(isinstance(B, A))\n",
    "print(issubclass(B, A))"
   ]
  },
  {
   "cell_type": "markdown",
   "metadata": {},
   "source": [
    "### Abstract classes?\n",
    "- Abstract Base Class (ABC)"
   ]
  },
  {
   "cell_type": "code",
   "execution_count": null,
   "metadata": {
    "tags": []
   },
   "outputs": [
    {
     "ename": "TypeError",
     "evalue": "Can't instantiate abstract class Animal with abstract method speak",
     "output_type": "error",
     "traceback": [
      "\u001b[0;31m---------------------------------------------------------------------------\u001b[0m",
      "\u001b[0;31mTypeError\u001b[0m                                 Traceback (most recent call last)",
      "\u001b[0;32m/tmp/ipykernel_36383/3452370285.py\u001b[0m in \u001b[0;36m<module>\u001b[0;34m\u001b[0m\n\u001b[1;32m     12\u001b[0m \u001b[0;34m\u001b[0m\u001b[0m\n\u001b[1;32m     13\u001b[0m \u001b[0;34m\u001b[0m\u001b[0m\n\u001b[0;32m---> 14\u001b[0;31m \u001b[0ma\u001b[0m \u001b[0;34m=\u001b[0m \u001b[0mAnimal\u001b[0m\u001b[0;34m(\u001b[0m\u001b[0;34m)\u001b[0m \u001b[0;31m# expect error, se inizializzo un elemento di tipo abstract\u001b[0m\u001b[0;34m\u001b[0m\u001b[0;34m\u001b[0m\u001b[0m\n\u001b[0m",
      "\u001b[0;31mTypeError\u001b[0m: Can't instantiate abstract class Animal with abstract method speak"
     ]
    }
   ],
   "source": [
    "import abc\n",
    "                                      #SDM\n",
    "         \n",
    "class Animal(abc.ABC):  # Python > 3.4\n",
    "    def __init__(self, age, name):\n",
    "        self.age = age\n",
    "        self.name = name\n",
    "\n",
    "    @abc.abstractmethod\n",
    "    def speak(self):\n",
    "        pass        #lascio vuoto \n",
    "\n",
    "\n",
    "a = Animal() # expect error, se inizializzo un elemento di tipo abstract"
   ]
  },
  {
   "cell_type": "code",
   "execution_count": null,
   "metadata": {},
   "outputs": [],
   "source": [
    "#import abc\n",
    "# class Animal(metaclass = abc.ABCMeta):       # if 2< Python < 3.4\n",
    "\n",
    "# Python 2\n",
    "# class Animal(object):\n",
    "#     __metaclass__ = abc.ABCMetaj\n"
   ]
  },
  {
   "cell_type": "code",
   "execution_count": 7,
   "metadata": {},
   "outputs": [
    {
     "name": "stdout",
     "output_type": "stream",
     "text": [
      "Bau\n",
      "1 Fido\n"
     ]
    }
   ],
   "source": [
    "class Dog(Animal): \n",
    "    def speak(self):\n",
    "        print(\"Bau\")  #devo ridefinire speak\n",
    "\n",
    "\n",
    "d = Dog(1, \"Fido\")\n",
    "d.speak()\n",
    "print(d.age, d.name)"
   ]
  },
  {
   "cell_type": "code",
   "execution_count": null,
   "metadata": {},
   "outputs": [],
   "source": []
  }
 ],
 "metadata": {
  "kernelspec": {
   "display_name": "Python 3 (ipykernel)",
   "language": "python",
   "name": "python3"
  },
  "language_info": {
   "codemirror_mode": {
    "name": "ipython",
    "version": 3
   },
   "file_extension": ".py",
   "mimetype": "text/x-python",
   "name": "python",
   "nbconvert_exporter": "python",
   "pygments_lexer": "ipython3",
   "version": "3.9.7"
  }
 },
 "nbformat": 4,
 "nbformat_minor": 4
}
