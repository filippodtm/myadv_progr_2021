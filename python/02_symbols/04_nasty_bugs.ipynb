{
 "cells": [
  {
   "cell_type": "markdown",
   "metadata": {},
   "source": [
    "### free vars"
   ]
  },
  {
   "cell_type": "code",
   "execution_count": 3,
   "metadata": {},
   "outputs": [],
   "source": [
    "from typing import Callable, List"
   ]
  },
  {
   "cell_type": "code",
   "execution_count": 4,
   "metadata": {},
   "outputs": [
    {
     "data": {
      "text/plain": [
       "49"
      ]
     },
     "execution_count": 4,
     "metadata": {},
     "output_type": "execute_result"
    }
   ],
   "source": [
    "def define_methods(n: int) -> List[Callable[[float], float]]:\n",
    "    return [lambda var: 2 * var + i      for i in range(n)]\n",
    "\n",
    "# i nella lambdafunction, che non è un argument,  è una nonlocal.\n",
    "#dentro definemethods c'è una reference a i, che poi viene upgradata (e resta 9?)\n",
    "\n",
    "funcs = define_methods(10)\n",
    "\n",
    "funcs[2](20)      #viene sbagl"
   ]
  },
  {
   "cell_type": "code",
   "execution_count": 5,
   "metadata": {},
   "outputs": [
    {
     "ename": "NameError",
     "evalue": "name 'i' is not defined",
     "output_type": "error",
     "traceback": [
      "\u001b[0;31m---------------------------------------------------------------------------\u001b[0m",
      "\u001b[0;31mNameError\u001b[0m                                 Traceback (most recent call last)",
      "\u001b[0;32m/tmp/ipykernel_16426/3616029859.py\u001b[0m in \u001b[0;36m<module>\u001b[0;34m\u001b[0m\n\u001b[0;32m----> 1\u001b[0;31m \u001b[0mi\u001b[0m\u001b[0;34m\u001b[0m\u001b[0;34m\u001b[0m\u001b[0m\n\u001b[0m",
      "\u001b[0;31mNameError\u001b[0m: name 'i' is not defined"
     ]
    }
   ],
   "source": [
    "i"
   ]
  },
  {
   "cell_type": "code",
   "execution_count": 6,
   "metadata": {
    "tags": []
   },
   "outputs": [
    {
     "data": {
      "text/plain": [
       "42"
      ]
     },
     "execution_count": 6,
     "metadata": {},
     "output_type": "execute_result"
    }
   ],
   "source": [
    "def define_methods(n: int) -> list[Callable[[float], float]]:\n",
    "    return [lambda var, i=i: 2 * var + i      for i in range(n)]\n",
    "\n",
    "# ora i è local\n",
    "funcs = define_methods(10)\n",
    "\n",
    "funcs[2](20)  # expect 2*20 + 2 = 42"
   ]
  },
  {
   "cell_type": "markdown",
   "metadata": {
    "tags": []
   },
   "source": [
    ".\n",
    "\n",
    ".\n",
    "\n",
    "\n",
    "###  (mutable) default values\n",
    "\n",
    "\n",
    "\n",
    ".\n",
    "\n",
    "\n",
    "\n",
    "\n",
    "The only mode of parameter passing in Python is **call by sharing**."
   ]
  },
  {
   "cell_type": "code",
   "execution_count": 7,
   "metadata": {},
   "outputs": [
    {
     "name": "stdout",
     "output_type": "stream",
     "text": [
      "['you visited func function']\n"
     ]
    }
   ],
   "source": [
    "def func(a: List = []) -> List:\n",
    "    a += [\"you visited func function\"]\n",
    "    return a\n",
    "\n",
    "\n",
    "l_default = func()\n",
    "print(l_default)"
   ]
  },
  {
   "cell_type": "code",
   "execution_count": 7,
   "metadata": {},
   "outputs": [
    {
     "name": "stdout",
     "output_type": "stream",
     "text": [
      "['under control', 'you visited func function']\n"
     ]
    }
   ],
   "source": [
    "l_custom = func([\"under control\"])\n",
    "print(l_custom)"
   ]
  },
  {
   "cell_type": "code",
   "execution_count": 8,
   "metadata": {},
   "outputs": [
    {
     "name": "stdout",
     "output_type": "stream",
     "text": [
      "['you visited func function', 'you visited func function']\n"
     ]
    }
   ],
   "source": [
    "OMG = func()\n",
    "print(OMG)"
   ]
  },
  {
   "cell_type": "code",
   "execution_count": 9,
   "metadata": {},
   "outputs": [
    {
     "data": {
      "text/plain": [
       "['you visited func function', 'you visited func function']"
      ]
     },
     "execution_count": 9,
     "metadata": {},
     "output_type": "execute_result"
    }
   ],
   "source": [
    "l_default\n",
    "\n",
    "\n",
    "#problema: il valore di default per la lista dentro func era [].\n",
    "# dopo una volta che chiamo la funzione esso\n",
    "# diventa  ['you visited func function'], dopo 2 diventa quella x2...\n"
   ]
  },
  {
   "cell_type": "markdown",
   "metadata": {},
   "source": [
    "###  None"
   ]
  },
  {
   "cell_type": "code",
   "execution_count": 4,
   "metadata": {},
   "outputs": [],
   "source": [
    "def func(a=None) -> List:                   # meglio mettergli NONE\n",
    "    tmp = [\"you visited func function\"]\n",
    "    if a:\n",
    "        return list(a) + tmp\n",
    "    return tmp"
   ]
  },
  {
   "cell_type": "code",
   "execution_count": 5,
   "metadata": {},
   "outputs": [
    {
     "data": {
      "text/plain": [
       "['first', 2, 'you visited func function']"
      ]
     },
     "execution_count": 5,
     "metadata": {},
     "output_type": "execute_result"
    }
   ],
   "source": [
    "a = func((\"first\", 2))\n",
    "a"
   ]
  },
  {
   "cell_type": "code",
   "execution_count": null,
   "metadata": {},
   "outputs": [],
   "source": []
  },
  {
   "cell_type": "code",
   "execution_count": 7,
   "metadata": {},
   "outputs": [],
   "source": [
    "from typing import Optional, Sequence, Iterable    # qua sotto riv\n",
    "\n",
    "\n",
    "def func(a=None) -> List:\n",
    "    tmp = [\"you visited func function\"]\n",
    "    if a:\n",
    "        return list(a) + tmp\n",
    "    return tmp    #se a è vuota"
   ]
  },
  {
   "cell_type": "code",
   "execution_count": 8,
   "metadata": {},
   "outputs": [],
   "source": [
    "def func(a: Optional[Sequence] = None) -> List:\n",
    "    tmp = [\"you visited func function\"]\n",
    "    return list(a) + tmp if a      else tmp"
   ]
  },
  {
   "cell_type": "code",
   "execution_count": 9,
   "metadata": {},
   "outputs": [],
   "source": [
    "a = func()\n"
   ]
  },
  {
   "cell_type": "code",
   "execution_count": 10,
   "metadata": {},
   "outputs": [
    {
     "data": {
      "text/plain": [
       "['b', 'o', 'o', 'you visited func function']"
      ]
     },
     "execution_count": 10,
     "metadata": {},
     "output_type": "execute_result"
    }
   ],
   "source": [
    "func(\"boo\")"
   ]
  },
  {
   "cell_type": "code",
   "execution_count": 8,
   "metadata": {},
   "outputs": [],
   "source": [
    "# TYPE HINTING, is OPTIONAL"
   ]
  },
  {
   "cell_type": "code",
   "execution_count": null,
   "metadata": {},
   "outputs": [],
   "source": []
  }
 ],
 "metadata": {
  "kernelspec": {
   "display_name": "Python 3 (ipykernel)",
   "language": "python",
   "name": "python3"
  },
  "language_info": {
   "codemirror_mode": {
    "name": "ipython",
    "version": 3
   },
   "file_extension": ".py",
   "mimetype": "text/x-python",
   "name": "python",
   "nbconvert_exporter": "python",
   "pygments_lexer": "ipython3",
   "version": "3.9.7"
  }
 },
 "nbformat": 4,
 "nbformat_minor": 4
}
