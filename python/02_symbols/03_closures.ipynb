{
 "cells": [
  {
   "cell_type": "markdown",
   "metadata": {},
   "source": [
    "###  free variables (aka nonlocal variables)"
   ]
  },
  {
   "cell_type": "code",
   "execution_count": 2,
   "metadata": {},
   "outputs": [],
   "source": [
    "from typing import Callable  # type hinting\n",
    "\n",
    "\n",
    "def inspect_vars(o: Callable) -> None:\n",
    "    for i in (\"co_varnames\", \"co_freevars\"):        #???\n",
    "        print(i, eval(\"o.__code__.\" + i))"
   ]
  },
  {
   "cell_type": "code",
   "execution_count": 6,
   "metadata": {},
   "outputs": [
    {
     "name": "stdout",
     "output_type": "stream",
     "text": [
      "9.0\n",
      "10.0\n",
      "20.0\n"
     ]
    }
   ],
   "source": [
    "Average = float  # type aliasing\n",
    "\n",
    "\n",
    "def maker() -> Callable[[float], float]  :   #returna una funzione(ie: avg)\n",
    "    so_far = []  #so_far cant be a globalvar\n",
    "\n",
    "    def avg(new_value: float) -> float:\n",
    "        so_far.append(new_value)\n",
    "        return sum(so_far) / len(so_far)\n",
    "\n",
    "    return avg\n",
    "\n",
    "\n",
    "av = maker( )\n",
    "print(av(9))\n",
    "print(av(11))\n",
    "print(av(40))"
   ]
  },
  {
   "cell_type": "code",
   "execution_count": null,
   "metadata": {},
   "outputs": [
    {
     "name": "stdout",
     "output_type": "stream",
     "text": [
      "co_varnames ('new_value',)\n",
      "co_freevars ('so_far',)\n"
     ]
    }
   ],
   "source": [
    "inspect_vars(av)"
   ]
  },
  {
   "cell_type": "code",
   "execution_count": 7,
   "metadata": {
    "tags": []
   },
   "outputs": [
    {
     "ename": "UnboundLocalError",
     "evalue": "local variable '_sum' referenced before assignment",
     "output_type": "error",
     "traceback": [
      "\u001b[0;31m---------------------------------------------------------------------------\u001b[0m",
      "\u001b[0;31mUnboundLocalError\u001b[0m                         Traceback (most recent call last)",
      "\u001b[0;32m/tmp/ipykernel_35228/261230005.py\u001b[0m in \u001b[0;36m<module>\u001b[0;34m\u001b[0m\n\u001b[1;32m     12\u001b[0m \u001b[0;34m\u001b[0m\u001b[0m\n\u001b[1;32m     13\u001b[0m \u001b[0mav\u001b[0m \u001b[0;34m=\u001b[0m \u001b[0mmaker_buggy\u001b[0m\u001b[0;34m(\u001b[0m\u001b[0;34m)\u001b[0m\u001b[0;34m\u001b[0m\u001b[0;34m\u001b[0m\u001b[0m\n\u001b[0;32m---> 14\u001b[0;31m \u001b[0mav\u001b[0m\u001b[0;34m(\u001b[0m\u001b[0;36m9\u001b[0m\u001b[0;34m)\u001b[0m\u001b[0;34m\u001b[0m\u001b[0;34m\u001b[0m\u001b[0m\n\u001b[0m\u001b[1;32m     15\u001b[0m \u001b[0;34m\u001b[0m\u001b[0m\n\u001b[1;32m     16\u001b[0m \u001b[0;31m#prima in maker non dava errore e manteneva il risultato perchè\u001b[0m\u001b[0;34m\u001b[0m\u001b[0;34m\u001b[0m\u001b[0m\n",
      "\u001b[0;32m/tmp/ipykernel_35228/261230005.py\u001b[0m in \u001b[0;36mavg\u001b[0;34m(new_value)\u001b[0m\n\u001b[1;32m      4\u001b[0m \u001b[0;34m\u001b[0m\u001b[0m\n\u001b[1;32m      5\u001b[0m     \u001b[0;32mdef\u001b[0m \u001b[0mavg\u001b[0m\u001b[0;34m(\u001b[0m\u001b[0mnew_value\u001b[0m\u001b[0;34m:\u001b[0m \u001b[0mfloat\u001b[0m\u001b[0;34m)\u001b[0m \u001b[0;34m->\u001b[0m \u001b[0mAverage\u001b[0m\u001b[0;34m:\u001b[0m\u001b[0;34m\u001b[0m\u001b[0;34m\u001b[0m\u001b[0m\n\u001b[0;32m----> 6\u001b[0;31m         \u001b[0m_sum\u001b[0m \u001b[0;34m+=\u001b[0m \u001b[0mnew_value\u001b[0m\u001b[0;34m\u001b[0m\u001b[0;34m\u001b[0m\u001b[0m\n\u001b[0m\u001b[1;32m      7\u001b[0m         \u001b[0m_count\u001b[0m \u001b[0;34m+=\u001b[0m \u001b[0;36m1\u001b[0m                 \u001b[0;31m#stesso errore di prima con b e foo\u001b[0m\u001b[0;34m\u001b[0m\u001b[0;34m\u001b[0m\u001b[0m\n\u001b[1;32m      8\u001b[0m         \u001b[0;32mreturn\u001b[0m \u001b[0m_sum\u001b[0m \u001b[0;34m/\u001b[0m \u001b[0m_count\u001b[0m\u001b[0;34m\u001b[0m\u001b[0;34m\u001b[0m\u001b[0m\n",
      "\u001b[0;31mUnboundLocalError\u001b[0m: local variable '_sum' referenced before assignment"
     ]
    }
   ],
   "source": [
    "def maker_buggy() -> Callable[[float], Average]:\n",
    "    _sum = 0\n",
    "    _count = 0\n",
    "\n",
    "    def avg(new_value: float) -> Average:\n",
    "        _sum += new_value\n",
    "        _count += 1                 #stesso errore di prima con b e foo\n",
    "        return _sum / _count\n",
    "\n",
    "    return avg\n",
    "\n",
    "\n",
    "av = maker_buggy()\n",
    "av(9)\n",
    "\n",
    "#prima in maker non dava errore e manteneva il risultato perchè\n",
    "#con list se assegno =[] non cambio il ID, cambio gli elementi tipo.\n",
    "#mentre con i numeri, che sono immutable, così cambio ID"
   ]
  },
  {
   "cell_type": "code",
   "execution_count": null,
   "metadata": {},
   "outputs": [
    {
     "name": "stdout",
     "output_type": "stream",
     "text": [
      "co_varnames ('new_value', '_sum', '_count')\n",
      "co_freevars ()\n"
     ]
    }
   ],
   "source": [
    "inspect_vars(av)"
   ]
  },
  {
   "cell_type": "code",
   "execution_count": 7,
   "metadata": {},
   "outputs": [
    {
     "name": "stdout",
     "output_type": "stream",
     "text": [
      "9.0\n",
      "10.0\n",
      "20.0\n"
     ]
    }
   ],
   "source": [
    "def maker_right() -> Callable[[float], Average]:\n",
    "    _sum = 0\n",
    "    _count = 0\n",
    "\n",
    "    def avg(new_value: float) -> Average:\n",
    "        nonlocal _sum, _count       # <----\n",
    "        _sum += new_value\n",
    "        _count += 1\n",
    "        return _sum / _count\n",
    "\n",
    "    return avg                               \n",
    "\n",
    "\n",
    "av = maker_right()\n",
    "print(av(9))\n",
    "print(av(11))\n",
    "print(av(40))\n"
   ]
  },
  {
   "cell_type": "code",
   "execution_count": null,
   "metadata": {},
   "outputs": [],
   "source": [
    "inspect_vars(av)"
   ]
  },
  {
   "cell_type": "markdown",
   "metadata": {
    "tags": []
   },
   "source": [
    "### closure\n",
    "è una funzione che usa delle freevariables. cioè variabili che possono restare anche fuori dal defining scope (che in questo caso è lo scope di maker!).\n",
    "\n",
    "A closure is a function that retains the bindings of the free variables that exist when the function is defined, so that they can be used later when the function is invoked and the **defining scope** is no longer available."
   ]
  },
  {
   "cell_type": "code",
   "execution_count": null,
   "metadata": {},
   "outputs": [],
   "source": []
  }
 ],
 "metadata": {
  "kernelspec": {
   "display_name": "Python 3 (ipykernel)",
   "language": "python",
   "name": "python3"
  },
  "language_info": {
   "codemirror_mode": {
    "name": "ipython",
    "version": 3
   },
   "file_extension": ".py",
   "mimetype": "text/x-python",
   "name": "python",
   "nbconvert_exporter": "python",
   "pygments_lexer": "ipython3",
   "version": "3.9.7"
  }
 },
 "nbformat": 4,
 "nbformat_minor": 4
}
