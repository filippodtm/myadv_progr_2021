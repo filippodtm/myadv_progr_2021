{
 "cells": [
  {
   "cell_type": "markdown",
   "id": "809228b5-79f2-4439-a403-caa1ca06290b",
   "metadata": {},
   "source": [
    "## CLASS"
   ]
  },
  {
   "cell_type": "code",
   "execution_count": 3,
   "id": "a5bf078f-dfc8-409a-a9d8-1fc92eb086d0",
   "metadata": {},
   "outputs": [
    {
     "name": "stdout",
     "output_type": "stream",
     "text": [
      "1 2\n"
     ]
    }
   ],
   "source": [
    "\n",
    "class Point:  # if python 2 ---> class Point(object):\n",
    "    def __init__(self, x, y):  # not a real ctor. why?\n",
    "        self.x = x     # significa il mio punto avrà un membro x\n",
    "        self.y = y\n",
    "\n",
    "    def method_with_no_arg(self):  # if you remove self --> error\n",
    "        print(\"no args!\")\n",
    "\n",
    "    def update(self, x, y):  # do I really need this?\n",
    "        self.x = x\n",
    "        self.y = y\n",
    "\n",
    "    def print(self):  # is this pythonic?\n",
    "        print(\"Point\", self.x, self.y)\n",
    "\n",
    "    def equal(self, other):  # is this pythonic?\n",
    "        return (self.x, self.y) == (other.x, other.y)\n",
    "\n",
    "\n",
    "p = Point(1,2)\n",
    "print(p.x, p.y)  # qui tutto public"
   ]
  },
  {
   "cell_type": "code",
   "execution_count": 4,
   "id": "7ad28168-28f4-4ed0-ba3c-477aad385648",
   "metadata": {},
   "outputs": [
    {
     "name": "stdout",
     "output_type": "stream",
     "text": [
      "Point 7 8\n"
     ]
    }
   ],
   "source": [
    "p.update(7,8)\n",
    "p.print()\n",
    "\n",
    "# è meglio cosi piuttosto:\n",
    "p.x, p.y = 0, 0"
   ]
  },
  {
   "cell_type": "markdown",
   "id": "b392bf36-4501-4844-96e5-c9d8aa64c7d2",
   "metadata": {},
   "source": [
    "## Altro modo\n",
    "\n",
    "vogliamo avere print(p) invece che p.print()"
   ]
  },
  {
   "cell_type": "code",
   "execution_count": 2,
   "id": "ab09e7ac-0595-4e36-93bb-73c44165eae1",
   "metadata": {},
   "outputs": [
    {
     "name": "stdout",
     "output_type": "stream",
     "text": [
      " ciao Point2d =( 3, 24)\n"
     ]
    }
   ],
   "source": [
    "class Point2d:\n",
    "    \"\"\"Documentation \n",
    "    of class Point\"\"\"\n",
    "\n",
    "    def __init__(self, x, y):\n",
    "        self.x = x\n",
    "        self.y = y\n",
    "\n",
    "    def __repr__(self):        #meglio usare repr piuttosto che str(??)\n",
    "        return f\" ciao {self.__class__.__name__} =( {self.x!r}, {self.y!r})\"\n",
    "                  # con \"!r\" forziamo l'uso di repr\n",
    "    \n",
    "    def __eq__(self, other):\n",
    "        # return self.x == other.x and self.y == other.y\n",
    "        return (self.x, self.y) == (other.x, other.y)\n",
    "\n",
    "    def __abs__(self):\n",
    "        \"\"\"return absolute value\"\"\"\n",
    "        import math\n",
    "        return math.hypot(self.x, self.y)\n",
    "\n",
    "    \n",
    "p = Point2d(3, 24)\n",
    "print(p)"
   ]
  },
  {
   "cell_type": "code",
   "execution_count": 6,
   "id": "4455f1e2-8ba6-4de2-90b1-bce44be61e17",
   "metadata": {},
   "outputs": [
    {
     "name": "stdout",
     "output_type": "stream",
     "text": [
      "Help on Point2d in module __main__ object:\n",
      "\n",
      "class Point2d(builtins.object)\n",
      " |  Point2d(x, y)\n",
      " |  \n",
      " |  Documentation \n",
      " |  of class Point\n",
      " |  \n",
      " |  Methods defined here:\n",
      " |  \n",
      " |  __abs__(self)\n",
      " |      return absolute value\n",
      " |  \n",
      " |  __eq__(self, other)\n",
      " |      Return self==value.\n",
      " |  \n",
      " |  __init__(self, x, y)\n",
      " |      Initialize self.  See help(type(self)) for accurate signature.\n",
      " |  \n",
      " |  __repr__(self)\n",
      " |      Return repr(self).\n",
      " |  \n",
      " |  ----------------------------------------------------------------------\n",
      " |  Data descriptors defined here:\n",
      " |  \n",
      " |  __dict__\n",
      " |      dictionary for instance variables (if defined)\n",
      " |  \n",
      " |  __weakref__\n",
      " |      list of weak references to the object (if defined)\n",
      " |  \n",
      " |  ----------------------------------------------------------------------\n",
      " |  Data and other attributes defined here:\n",
      " |  \n",
      " |  __hash__ = None\n",
      "\n"
     ]
    }
   ],
   "source": [
    "help(p)"
   ]
  },
  {
   "cell_type": "code",
   "execution_count": null,
   "id": "858f434c-5668-4921-9999-6a7af10d34d4",
   "metadata": {},
   "outputs": [],
   "source": []
  }
 ],
 "metadata": {
  "kernelspec": {
   "display_name": "Python 3 (ipykernel)",
   "language": "python",
   "name": "python3"
  },
  "language_info": {
   "codemirror_mode": {
    "name": "ipython",
    "version": 3
   },
   "file_extension": ".py",
   "mimetype": "text/x-python",
   "name": "python",
   "nbconvert_exporter": "python",
   "pygments_lexer": "ipython3",
   "version": "3.9.7"
  }
 },
 "nbformat": 4,
 "nbformat_minor": 5
}
