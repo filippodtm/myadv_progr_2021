{
 "cells": [
  {
   "cell_type": "markdown",
   "metadata": {
    "tags": []
   },
   "source": [
    "## Functions\n",
    "```python\n",
    "def function_name(arg1, arg2, arg3):\n",
    "    '''Documentation\n",
    "    eventually, on multiple\n",
    "    lines\n",
    "    aka docstring\n",
    "    '''\n",
    "    body\n",
    "```\n",
    "* `return` statement is optional\n",
    "* `return` you can return multiple elements returning a `tuple`\n",
    "```python\n",
    "    return a,b,c\n",
    "```"
   ]
  },
  {
   "cell_type": "code",
   "execution_count": null,
   "metadata": {},
   "outputs": [],
   "source": [
    "def hello(name):\n",
    "    \"\"\"this prints 'hello' followed by the arg name\"\"\"\n",
    "    print(\"hello\", name)\n",
    "\n",
    "\n",
    "hello(\"alberto\")\n",
    "hello(name=\"alberto\") #posso usare il nome come keyword--> non serve ricordarsi l'ordine degli inputs"
   ]
  },
  {
   "cell_type": "code",
   "execution_count": 1,
   "metadata": {},
   "outputs": [
    {
     "name": "stdin",
     "output_type": "stream",
     "text": [
      "write your name:  pippo\n"
     ]
    },
    {
     "name": "stdout",
     "output_type": "stream",
     "text": [
      "<class 'str'>\n",
      "hello pippo\n"
     ]
    }
   ],
   "source": [
    "def interactive_hello():\n",
    "    \"\"\"prompt the user for a name, then prints \"hello\" followed by the name\"\"\"\n",
    "    name = str(input(\"write your name: \"))\n",
    "    print(type(name))\n",
    "    print(\"hello\", name)\n",
    "\n",
    "\n",
    "interactive_hello()"
   ]
  },
  {
   "cell_type": "code",
   "execution_count": 4,
   "metadata": {},
   "outputs": [
    {
     "name": "stdout",
     "output_type": "stream",
     "text": [
      "<class 'tuple'>\n",
      "hello alberto\n",
      "hello luigi\n",
      "hello stefania\n"
     ]
    }
   ],
   "source": [
    "def multi_hello(*names):\n",
    "    \"\"\"for each name in names print \"hello\" name\"\"\"\n",
    "    print(type(names))  #names is stored as a tuple: it's optimised, can't be changed\n",
    "    for i in names:\n",
    "        print(\"hello\", i)\n",
    "\n",
    "\n",
    "multi_hello(\"alberto\", \"luigi\", \"stefania\")"
   ]
  },
  {
   "cell_type": "code",
   "execution_count": 5,
   "metadata": {},
   "outputs": [
    {
     "name": "stdout",
     "output_type": "stream",
     "text": [
      "42 1e-09\n"
     ]
    }
   ],
   "source": [
    "def dwim():\n",
    "    \"\"\"super complicated algorithm which returns value and error estimation\"\"\"\n",
    "    value = 42\n",
    "    error = 1e-9\n",
    "    return value, error\n",
    "\n",
    "\n",
    "v, e = dwim()\n",
    "print(v, e)"
   ]
  },
  {
   "cell_type": "markdown",
   "metadata": {},
   "source": [
    "### Keyword and positional arguments\n",
    "\n",
    "* keyword arguments are passed as a dictionary {key:value,...}\n",
    "* non-keyword arguments are called positional arguments\n",
    "* `*expression` must evaluate an iterable"
   ]
  },
  {
   "cell_type": "code",
   "execution_count": 6,
   "metadata": {},
   "outputs": [],
   "source": [
    "def foo(*positional, **keywords):     # ** is a different type, for keys\n",
    "    print(\"Positional:\", positional, end=\"\\t\")   #its a tuple\n",
    "    print(\"Keywords:\", keywords)         #it's a dictionary"
   ]
  },
  {
   "cell_type": "code",
   "execution_count": 7,
   "metadata": {},
   "outputs": [
    {
     "name": "stdout",
     "output_type": "stream",
     "text": [
      "Positional: ('1st', '2nd', '3rd')\tKeywords: {}\n"
     ]
    }
   ],
   "source": [
    "foo(\"1st\", \"2nd\", \"3rd\")"
   ]
  },
  {
   "cell_type": "code",
   "execution_count": 8,
   "metadata": {},
   "outputs": [
    {
     "name": "stdout",
     "output_type": "stream",
     "text": [
      "Positional: ()\tKeywords: {'par1': 1, 'par2': '2nd', 'par3': '3rd'}\n"
     ]
    }
   ],
   "source": [
    "foo(par1=1, par2=\"2nd\", par3=\"3rd\")"
   ]
  },
  {
   "cell_type": "code",
   "execution_count": 9,
   "metadata": {},
   "outputs": [
    {
     "name": "stdout",
     "output_type": "stream",
     "text": [
      "Positional: ('1st',)\tKeywords: {'pippo': '2nd', 'par3': '3rd'}\n"
     ]
    }
   ],
   "source": [
    "foo(\"1st\", pippo=\"2nd\", par3=\"3rd\")"
   ]
  },
  {
   "cell_type": "code",
   "execution_count": 10,
   "metadata": {},
   "outputs": [
    {
     "ename": "SyntaxError",
     "evalue": "positional argument follows keyword argument (781517513.py, line 1)",
     "output_type": "error",
     "traceback": [
      "\u001b[0;36m  File \u001b[0;32m\"/tmp/ipykernel_33737/781517513.py\"\u001b[0;36m, line \u001b[0;32m1\u001b[0m\n\u001b[0;31m    foo(par2=2, '1st')\u001b[0m\n\u001b[0m                     ^\u001b[0m\n\u001b[0;31mSyntaxError\u001b[0m\u001b[0;31m:\u001b[0m positional argument follows keyword argument\n"
     ]
    }
   ],
   "source": [
    "foo(par2=2, '1st')   #errr"
   ]
  },
  {
   "cell_type": "code",
   "execution_count": 11,
   "metadata": {},
   "outputs": [
    {
     "name": "stdout",
     "output_type": "stream",
     "text": [
      "Positional: ('tuple', 'unpacking')\tKeywords: {'par1': '1st_key', 'par2': '2nd_key'}\n"
     ]
    }
   ],
   "source": [
    "foo(par1=\"1st_key\", *(\"tuple\", \"unpacking\"), par2=\"2nd_key\")  #dont do it\n",
    "#positional after keyword-vars is supported if theres tuple unpacking"
   ]
  },
  {
   "cell_type": "code",
   "execution_count": 12,
   "metadata": {},
   "outputs": [
    {
     "name": "stdout",
     "output_type": "stream",
     "text": [
      "Positional: ('1st_pos', '2st_pos', '3rd_pos')\tKeywords: {'par1': '1st_key', 'par2': '2nd_key'}\n"
     ]
    }
   ],
   "source": [
    "foo(par1=\"1st_key\", *[\"1st_pos\"], par2=\"2nd_key\", *[\"2st_pos\", \"3rd_pos\"])"
   ]
  },
  {
   "cell_type": "markdown",
   "metadata": {},
   "source": [
    "### Anonymous functions, aka lambda functions\n",
    "```python\n",
    "lambda arg1,arg2,arg3: expression\n",
    "```\n",
    "\n",
    "- any number of args, but only 1 expression that **returns** a value\n",
    "- also zero arguments..."
   ]
  },
  {
   "cell_type": "code",
   "execution_count": 13,
   "metadata": {},
   "outputs": [
    {
     "name": "stdout",
     "output_type": "stream",
     "text": [
      "{'c': 100, 'a': 10, 'z': 50}\n"
     ]
    }
   ],
   "source": [
    "d = {\"c\": 100, \"a\": 10, \"z\": 50}\n",
    "print(d)"
   ]
  },
  {
   "cell_type": "code",
   "execution_count": 14,
   "metadata": {},
   "outputs": [
    {
     "name": "stdout",
     "output_type": "stream",
     "text": [
      "c 100\n",
      "a 10\n",
      "z 50\n"
     ]
    }
   ],
   "source": [
    "for k, v in d.items():\n",
    "    print(k, v)"
   ]
  },
  {
   "cell_type": "code",
   "execution_count": 18,
   "metadata": {},
   "outputs": [
    {
     "data": {
      "text/plain": [
       "[('a', 10), ('c', 100), ('z', 50)]"
      ]
     },
     "execution_count": 18,
     "metadata": {},
     "output_type": "execute_result"
    }
   ],
   "source": [
    "sorted(d.items())  #sorted ordina wrt primo elemento (cioè chiave)"
   ]
  },
  {
   "cell_type": "code",
   "execution_count": 19,
   "metadata": {},
   "outputs": [
    {
     "name": "stdout",
     "output_type": "stream",
     "text": [
      "a 10\n",
      "c 100\n",
      "z 50\n"
     ]
    }
   ],
   "source": [
    "for k, v in sorted(d.items(), reverse=False):\n",
    "    print(k, v)"
   ]
  },
  {
   "cell_type": "code",
   "execution_count": 21,
   "metadata": {},
   "outputs": [
    {
     "name": "stdout",
     "output_type": "stream",
     "text": [
      "10\n",
      "50\n",
      "100\n"
     ]
    }
   ],
   "source": [
    "for v in sorted(d.values()):   items =keys U values\n",
    "    print(v)"
   ]
  },
  {
   "cell_type": "code",
   "execution_count": 20,
   "metadata": {},
   "outputs": [
    {
     "data": {
      "text/plain": [
       "[('a', 10), ('z', 50), ('c', 100)]"
      ]
     },
     "execution_count": 20,
     "metadata": {},
     "output_type": "execute_result"
    }
   ],
   "source": [
    "sorted(d.items(), key=lambda x: x[1]) #ordina risp al secondo elemento, cioè wrt valori"
   ]
  },
  {
   "cell_type": "code",
   "execution_count": null,
   "metadata": {},
   "outputs": [],
   "source": [
    "def get_second_element(x):\n",
    "    return x[1]\n",
    "\n",
    "sorted(d.items(), key= get_second_element)\n",
    "# poi internamente fa:\n",
    "# key(x) for x in d.items()\n",
    "#NB: key prende solo 1 argom."
   ]
  },
  {
   "cell_type": "code",
   "execution_count": null,
   "metadata": {},
   "outputs": [],
   "source": [
    "sorted??"
   ]
  },
  {
   "cell_type": "code",
   "execution_count": null,
   "metadata": {},
   "outputs": [],
   "source": [
    "for k, v in sorted(d.items(), key=lambda x: x[1]):\n",
    "    print(k, v)"
   ]
  },
  {
   "cell_type": "markdown",
   "metadata": {},
   "source": [
    "###  functions are first-class objects\n",
    "First-class object is a program entity that can be:\n",
    "- created at runtime\n",
    "- assigned to a variable or element in a data structure  -  SDM\n",
    "- passed as an argument to a function\n",
    "- returned as the result of a function"
   ]
  },
  {
   "cell_type": "code",
   "execution_count": 2,
   "metadata": {},
   "outputs": [
    {
     "name": "stdout",
     "output_type": "stream",
     "text": [
      "<class 'function'>\n",
      "hello\n"
     ]
    }
   ],
   "source": [
    "def hello():\n",
    "    print(\"hello\")\n",
    "\n",
    "\n",
    "print(type(hello))\n",
    "\n",
    "a = hello\n",
    "a()"
   ]
  },
  {
   "cell_type": "markdown",
   "metadata": {},
   "source": [
    "### functions can use recursion"
   ]
  },
  {
   "cell_type": "code",
   "execution_count": null,
   "metadata": {},
   "outputs": [],
   "source": [
    "def factorial2(n):\n",
    "    ret = 1\n",
    "    while n > 0:\n",
    "        ret *= n\n",
    "        n -= 1\n",
    "    return ret"
   ]
  },
  {
   "cell_type": "code",
   "execution_count": null,
   "metadata": {},
   "outputs": [],
   "source": [
    "def factorial(n):\n",
    "    if n < 2:\n",
    "        return 1\n",
    "    return n * factorial(n - 1)"
   ]
  },
  {
   "cell_type": "code",
   "execution_count": null,
   "metadata": {},
   "outputs": [],
   "source": [
    "factorial(6)"
   ]
  },
  {
   "cell_type": "code",
   "execution_count": null,
   "metadata": {},
   "outputs": [],
   "source": [
    "def factorial(n):\n",
    "    return 1 if n < 2     else n * factorial(n - 1)\n",
    "\n",
    "\n",
    "factorial(77)"
   ]
  },
  {
   "cell_type": "code",
   "execution_count": 3,
   "metadata": {},
   "outputs": [
    {
     "name": "stdout",
     "output_type": "stream",
     "text": [
      "Help on built-in function sorted in module builtins:\n",
      "\n",
      "sorted(iterable, /, *, key=None, reverse=False)\n",
      "    Return a new list containing all items from the iterable in ascending order.\n",
      "    \n",
      "    A custom key function can be supplied to customize the sort order, and the\n",
      "    reverse flag can be set to request the result in descending order.\n",
      "\n"
     ]
    }
   ],
   "source": [
    "help(sorted)\n",
    "#non posso dare in input \"lambda..\" senza key"
   ]
  },
  {
   "cell_type": "markdown",
   "metadata": {},
   "source": [
    "### args name in functions can be used as `keyword`"
   ]
  },
  {
   "cell_type": "code",
   "execution_count": 4,
   "metadata": {},
   "outputs": [
    {
     "name": "stdout",
     "output_type": "stream",
     "text": [
      "hello\n"
     ]
    }
   ],
   "source": [
    "eval(\"print('hello')\")"
   ]
  },
  {
   "cell_type": "code",
   "execution_count": 26,
   "metadata": {},
   "outputs": [
    {
     "name": "stdout",
     "output_type": "stream",
     "text": [
      "a got to_a\n",
      "b got to_b\n",
      "c got to_c\n"
     ]
    }
   ],
   "source": [
    "def abc(a, b, c):\n",
    "    for i in (\"a\", \"b\", \"c\"):\n",
    "        print(i, \"got\", eval(i))\n",
    "\n",
    "\n",
    "abc(\"to_a\", \"to_b\", \"to_c\")"
   ]
  },
  {
   "cell_type": "code",
   "execution_count": 32,
   "metadata": {},
   "outputs": [
    {
     "name": "stdout",
     "output_type": "stream",
     "text": [
      "a got to_a\n",
      "b got to_b\n",
      "c got to_c\n"
     ]
    }
   ],
   "source": [
    "abc(b=\"to_b\", c=\"to_c\", a=\"to_a\")"
   ]
  },
  {
   "cell_type": "markdown",
   "metadata": {},
   "source": [
    "###  if you want keyword-only arguments, put a `*` in the signature"
   ]
  },
  {
   "cell_type": "code",
   "execution_count": 28,
   "metadata": {},
   "outputs": [
    {
     "name": "stdout",
     "output_type": "stream",
     "text": [
      "a got to_a\n",
      "b got to_b\n",
      "c got to_c\n"
     ]
    }
   ],
   "source": [
    "def abc_keyword_only(*, a, b, c):   #dopo asterisco SOLO KEYWORD\n",
    "    for i in (\"a\", \"b\", \"c\"):\n",
    "        print(i, \"got\", eval(i))\n",
    "\n",
    "\n",
    "# abc_keyword_only('to_a', 'to_b', 'to_c') # error\n",
    "abc_keyword_only(b=\"to_b\", c=\"to_c\", a=\"to_a\")"
   ]
  },
  {
   "cell_type": "code",
   "execution_count": 5,
   "metadata": {},
   "outputs": [
    {
     "ename": "TypeError",
     "evalue": "abc_keyword_only() missing 1 required positional argument: 'foo'",
     "output_type": "error",
     "traceback": [
      "\u001b[0;31m---------------------------------------------------------------------------\u001b[0m",
      "\u001b[0;31mTypeError\u001b[0m                                 Traceback (most recent call last)",
      "\u001b[0;32m/tmp/ipykernel_2836/430730976.py\u001b[0m in \u001b[0;36m<module>\u001b[0;34m\u001b[0m\n\u001b[1;32m      5\u001b[0m \u001b[0;34m\u001b[0m\u001b[0m\n\u001b[1;32m      6\u001b[0m \u001b[0;31m# abc_keyword_only('to_a', 'to_b', 'to_c') # error\u001b[0m\u001b[0;34m\u001b[0m\u001b[0;34m\u001b[0m\u001b[0m\n\u001b[0;32m----> 7\u001b[0;31m \u001b[0mabc_keyword_only\u001b[0m\u001b[0;34m(\u001b[0m\u001b[0mb\u001b[0m\u001b[0;34m=\u001b[0m\u001b[0;34m\"to_b\"\u001b[0m\u001b[0;34m,\u001b[0m \u001b[0mc\u001b[0m\u001b[0;34m=\u001b[0m\u001b[0;34m\"to_c\"\u001b[0m\u001b[0;34m,\u001b[0m \u001b[0ma\u001b[0m\u001b[0;34m=\u001b[0m\u001b[0;34m\"to_a\"\u001b[0m\u001b[0;34m)\u001b[0m\u001b[0;34m\u001b[0m\u001b[0;34m\u001b[0m\u001b[0m\n\u001b[0m",
      "\u001b[0;31mTypeError\u001b[0m: abc_keyword_only() missing 1 required positional argument: 'foo'"
     ]
    }
   ],
   "source": [
    "def abc_keyword_only(foo, /, *, a, b, c): #before the slash ONLY POSITIONAL\n",
    "    for i in (\"a\", \"b\", \"c\"):\n",
    "        print(i, \"got\", eval(i))\n",
    "\n",
    "\n",
    "# abc_keyword_only('to_a', 'to_b', 'to_c') # error\n",
    "abc_keyword_only(b=\"to_b\", c=\"to_c\", a=\"to_a\")"
   ]
  },
  {
   "cell_type": "markdown",
   "metadata": {},
   "source": [
    "### define which args cannot be used as keyword args"
   ]
  },
  {
   "cell_type": "code",
   "execution_count": 30,
   "metadata": {},
   "outputs": [
    {
     "name": "stdout",
     "output_type": "stream",
     "text": [
      "obj='first', key1=<class 'int'>, key2=<function <lambda> at 0x7f64805b60d0>\n",
      "obj='first', key1=<class 'int'>, key2=<function <lambda> at 0x7f64805b60d0>\n"
     ]
    }
   ],
   "source": [
    "def mix(obj, /, key1, *, key2):   #key1: BOTH positional, keyword\n",
    "    \"\"\"obj only positional\n",
    "       key1 both poistional and keyword arg\n",
    "       key2 only keyword\"\"\"\n",
    "    print(f\"{obj=}, {key1=}, {key2=}\")\n",
    "\n",
    "\n",
    "mix(\"first\", key2=lambda: 3 / 4, key1=int)\n",
    "\n",
    "mix(\"first\", int, key2=lambda: 3 / 4)"
   ]
  },
  {
   "cell_type": "code",
   "execution_count": 31,
   "metadata": {},
   "outputs": [
    {
     "ename": "TypeError",
     "evalue": "mix() got some positional-only arguments passed as keyword arguments: 'obj'",
     "output_type": "error",
     "traceback": [
      "\u001b[0;31m---------------------------------------------------------------------------\u001b[0m",
      "\u001b[0;31mTypeError\u001b[0m                                 Traceback (most recent call last)",
      "\u001b[0;32m/tmp/ipykernel_33737/3018061887.py\u001b[0m in \u001b[0;36m<module>\u001b[0;34m\u001b[0m\n\u001b[0;32m----> 1\u001b[0;31m \u001b[0mmix\u001b[0m\u001b[0;34m(\u001b[0m\u001b[0mobj\u001b[0m\u001b[0;34m=\u001b[0m\u001b[0;34m\"first\"\u001b[0m\u001b[0;34m,\u001b[0m \u001b[0mkey1\u001b[0m\u001b[0;34m=\u001b[0m\u001b[0mint\u001b[0m\u001b[0;34m,\u001b[0m \u001b[0mkey2\u001b[0m\u001b[0;34m=\u001b[0m\u001b[0;32mlambda\u001b[0m\u001b[0;34m:\u001b[0m \u001b[0;36m3\u001b[0m \u001b[0;34m/\u001b[0m \u001b[0;36m4\u001b[0m\u001b[0;34m)\u001b[0m \u001b[0;31m# error\u001b[0m\u001b[0;34m\u001b[0m\u001b[0;34m\u001b[0m\u001b[0m\n\u001b[0m\u001b[1;32m      2\u001b[0m \u001b[0;34m\u001b[0m\u001b[0m\n\u001b[1;32m      3\u001b[0m \u001b[0;34m\u001b[0m\u001b[0m\n\u001b[1;32m      4\u001b[0m \u001b[0;34m\u001b[0m\u001b[0m\n\u001b[1;32m      5\u001b[0m \u001b[0;34m\u001b[0m\u001b[0m\n",
      "\u001b[0;31mTypeError\u001b[0m: mix() got some positional-only arguments passed as keyword arguments: 'obj'"
     ]
    }
   ],
   "source": [
    "mix(obj=\"first\", key1=int, key2=lambda: 3 / 4) # error\n",
    "\n",
    "\n",
    "\n",
    "\n"
   ]
  },
  {
   "cell_type": "markdown",
   "metadata": {},
   "source": [
    "### default values"
   ]
  },
  {
   "cell_type": "code",
   "execution_count": 33,
   "metadata": {},
   "outputs": [
    {
     "name": "stdout",
     "output_type": "stream",
     "text": [
      "a got default_a\n",
      "b got to_b\n",
      "c got default_c\n"
     ]
    }
   ],
   "source": [
    "def abc_with_default(a=\"default_a\", b=\"default_b\", c=\"default_c\"):\n",
    "    abc(a, b, c)\n",
    "\n",
    "\n",
    "abc_with_default(b=\"to_b\")"
   ]
  },
  {
   "cell_type": "markdown",
   "metadata": {},
   "source": [
    "### documentation"
   ]
  },
  {
   "cell_type": "code",
   "execution_count": 6,
   "metadata": {},
   "outputs": [
    {
     "name": "stdout",
     "output_type": "stream",
     "text": [
      "Help on function foo in module __main__:\n",
      "\n",
      "foo()\n",
      "    this is a string documenting foo(). \n",
      "    accessible via help(foo)\n",
      "\n"
     ]
    }
   ],
   "source": [
    "def foo():\n",
    "    \"\"\"\n",
    "    this is a string documenting foo(). \n",
    "    accessible via help(foo)\n",
    "    \"\"\"\n",
    "    pass\n",
    "\n",
    "\n",
    "help(foo)"
   ]
  },
  {
   "cell_type": "markdown",
   "metadata": {},
   "source": [
    "### function ANNOTATIONS"
   ]
  },
  {
   "cell_type": "code",
   "execution_count": 7,
   "metadata": {},
   "outputs": [],
   "source": [
    "#LE ANNOTATIONS POSSONO NON ESSERE RISPETTATE, servono a third-party \n",
    "def complicated_function(text: str, max_len: \"int>0\"= 80)  ->  str:\n",
    "    #es. nomevar: tipo, returntype=str. \"int>0\" potrebbe non essere riconosciuto da altri software\n",
    "    \"\"\"documentation for complicated_function\"\"\"\n",
    "    pass"
   ]
  },
  {
   "cell_type": "code",
   "execution_count": 40,
   "metadata": {},
   "outputs": [
    {
     "name": "stdout",
     "output_type": "stream",
     "text": [
      "Help on function complicated_function in module __main__:\n",
      "\n",
      "complicated_function(text: str, max_len: 'int>0' = 80) -> str\n",
      "    documentation for complicated_function\n",
      "\n"
     ]
    }
   ],
   "source": [
    "help(complicated_function)"
   ]
  },
  {
   "cell_type": "markdown",
   "metadata": {},
   "source": [
    "Per fare check di annotations, es:\n",
    "\n",
    "mypy nome.py,  \n",
    "pytype nome.py   (di google?)"
   ]
  },
  {
   "cell_type": "markdown",
   "metadata": {},
   "source": [
    "###  much more"
   ]
  },
  {
   "cell_type": "code",
   "execution_count": 9,
   "metadata": {},
   "outputs": [
    {
     "name": "stdout",
     "output_type": "stream",
     "text": [
      "__annotations__ is {'text': <class 'str'>, 'max_len': 'int>0', 'return': <class 'str'>}\n",
      "__call__ is <method-wrapper '__call__' of function object at 0x7f1c245a0040>\n",
      "__class__ is <class 'function'>\n",
      "__closure__ is None\n",
      "__code__ is <code object complicated_function at 0x7f1c2459c030, file \"/tmp/ipykernel_2836/4008883107.py\", line 2>\n",
      "__defaults__ is (80,)\n",
      "__delattr__ is <method-wrapper '__delattr__' of function object at 0x7f1c245a0040>\n",
      "__dict__ is {}\n",
      "__dir__ is <built-in method __dir__ of function object at 0x7f1c245a0040>\n",
      "__doc__ is documentation for complicated_function\n",
      "__eq__ is <method-wrapper '__eq__' of function object at 0x7f1c245a0040>\n",
      "__format__ is <built-in method __format__ of function object at 0x7f1c245a0040>\n",
      "__ge__ is <method-wrapper '__ge__' of function object at 0x7f1c245a0040>\n",
      "__get__ is <method-wrapper '__get__' of function object at 0x7f1c245a0040>\n",
      "__getattribute__ is <method-wrapper '__getattribute__' of function object at 0x7f1c245a0040>\n",
      "__globals__ is {'__name__': '__main__', '__doc__': 'Automatically created module for IPython interactive environment', '__package__': None, '__loader__': None, '__spec__': None, '__builtin__': <module 'builtins' (built-in)>, '__builtins__': <module 'builtins' (built-in)>, '_ih': ['', 'def interactive_hello():\\n    \"\"\"prompt the user for a name, then prints \"hello\" followed by the name\"\"\"\\n    name = str(input(\"write your name: \"))\\n    print(type(name))\\n    print(\"hello\", name)\\n\\n\\ninteractive_hello()', 'def hello():\\n    print(\"hello\")\\n\\n\\nprint(type(hello))\\n\\na = hello\\na()', 'help(sorted)\\n#non posso dare in input lambda senza key', 'eval(\"print(\\'hello\\')\")', 'def abc_keyword_only(foo, /, *, a, b, c): #before the slash ONLY POSITIONAL\\n    for i in (\"a\", \"b\", \"c\"):\\n        print(i, \"got\", eval(i))\\n\\n\\n# abc_keyword_only(\\'to_a\\', \\'to_b\\', \\'to_c\\') # error\\nabc_keyword_only(b=\"to_b\", c=\"to_c\", a=\"to_a\")', 'def foo():\\n    \"\"\"\\n    this is a string documenting foo(). \\n    accessible via help(foo)\\n    \"\"\"\\n    pass\\n\\n\\nhelp(foo)', '#LE ANNOTATIONS POSSONO NON ESSERE RISPETTATE, servono a third-party \\ndef complicated_function(text: str, max_len: \"int>0\"= 80)  ->  str:\\n    #es. nomevar: tipo, returntype=str. \"int>0\" potrebbe non essere riconosciuto da altri software\\n    \"\"\"documentation for complicated_function\"\"\"\\n    pass', 'for i in dir(complicated_function):\\n    print(i, \"is\", eval(\"complicated_function.\" + i))', 'for i in dir(complicated_function):\\n    print(i, \"is\", eval(\"complicated_function.\" + i))       # -NI-'], '_oh': {}, '_dh': ['/home/pippo/advanced_programming_2021/python/01_intro'], 'In': ['', 'def interactive_hello():\\n    \"\"\"prompt the user for a name, then prints \"hello\" followed by the name\"\"\"\\n    name = str(input(\"write your name: \"))\\n    print(type(name))\\n    print(\"hello\", name)\\n\\n\\ninteractive_hello()', 'def hello():\\n    print(\"hello\")\\n\\n\\nprint(type(hello))\\n\\na = hello\\na()', 'help(sorted)\\n#non posso dare in input lambda senza key', 'eval(\"print(\\'hello\\')\")', 'def abc_keyword_only(foo, /, *, a, b, c): #before the slash ONLY POSITIONAL\\n    for i in (\"a\", \"b\", \"c\"):\\n        print(i, \"got\", eval(i))\\n\\n\\n# abc_keyword_only(\\'to_a\\', \\'to_b\\', \\'to_c\\') # error\\nabc_keyword_only(b=\"to_b\", c=\"to_c\", a=\"to_a\")', 'def foo():\\n    \"\"\"\\n    this is a string documenting foo(). \\n    accessible via help(foo)\\n    \"\"\"\\n    pass\\n\\n\\nhelp(foo)', '#LE ANNOTATIONS POSSONO NON ESSERE RISPETTATE, servono a third-party \\ndef complicated_function(text: str, max_len: \"int>0\"= 80)  ->  str:\\n    #es. nomevar: tipo, returntype=str. \"int>0\" potrebbe non essere riconosciuto da altri software\\n    \"\"\"documentation for complicated_function\"\"\"\\n    pass', 'for i in dir(complicated_function):\\n    print(i, \"is\", eval(\"complicated_function.\" + i))', 'for i in dir(complicated_function):\\n    print(i, \"is\", eval(\"complicated_function.\" + i))       # -NI-'], 'Out': {}, 'get_ipython': <bound method InteractiveShell.get_ipython of <ipykernel.zmqshell.ZMQInteractiveShell object at 0x7f1c25ea66d0>>, 'exit': <IPython.core.autocall.ZMQExitAutocall object at 0x7f1c25e82220>, 'quit': <IPython.core.autocall.ZMQExitAutocall object at 0x7f1c25e82220>, '_': '', '__': '', '___': '', '_i': 'for i in dir(complicated_function):\\n    print(i, \"is\", eval(\"complicated_function.\" + i))', '_ii': '#LE ANNOTATIONS POSSONO NON ESSERE RISPETTATE, servono a third-party \\ndef complicated_function(text: str, max_len: \"int>0\"= 80)  ->  str:\\n    #es. nomevar: tipo, returntype=str. \"int>0\" potrebbe non essere riconosciuto da altri software\\n    \"\"\"documentation for complicated_function\"\"\"\\n    pass', '_iii': 'def foo():\\n    \"\"\"\\n    this is a string documenting foo(). \\n    accessible via help(foo)\\n    \"\"\"\\n    pass\\n\\n\\nhelp(foo)', '_i1': 'def interactive_hello():\\n    \"\"\"prompt the user for a name, then prints \"hello\" followed by the name\"\"\"\\n    name = str(input(\"write your name: \"))\\n    print(type(name))\\n    print(\"hello\", name)\\n\\n\\ninteractive_hello()', 'interactive_hello': <function interactive_hello at 0x7f1c2466e8b0>, '_i2': 'def hello():\\n    print(\"hello\")\\n\\n\\nprint(type(hello))\\n\\na = hello\\na()', 'hello': <function hello at 0x7f1c2466eb80>, 'a': <function hello at 0x7f1c2466eb80>, '_i3': 'help(sorted)\\n#non posso dare in input lambda senza key', '_i4': 'eval(\"print(\\'hello\\')\")', '_i5': 'def abc_keyword_only(foo, /, *, a, b, c): #before the slash ONLY POSITIONAL\\n    for i in (\"a\", \"b\", \"c\"):\\n        print(i, \"got\", eval(i))\\n\\n\\n# abc_keyword_only(\\'to_a\\', \\'to_b\\', \\'to_c\\') # error\\nabc_keyword_only(b=\"to_b\", c=\"to_c\", a=\"to_a\")', 'abc_keyword_only': <function abc_keyword_only at 0x7f1c2466ec10>, '_i6': 'def foo():\\n    \"\"\"\\n    this is a string documenting foo(). \\n    accessible via help(foo)\\n    \"\"\"\\n    pass\\n\\n\\nhelp(foo)', 'foo': <function foo at 0x7f1c2466e790>, '_i7': '#LE ANNOTATIONS POSSONO NON ESSERE RISPETTATE, servono a third-party \\ndef complicated_function(text: str, max_len: \"int>0\"= 80)  ->  str:\\n    #es. nomevar: tipo, returntype=str. \"int>0\" potrebbe non essere riconosciuto da altri software\\n    \"\"\"documentation for complicated_function\"\"\"\\n    pass', 'complicated_function': <function complicated_function at 0x7f1c245a0040>, '_i8': 'for i in dir(complicated_function):\\n    print(i, \"is\", eval(\"complicated_function.\" + i))', 'i': '__globals__', '_i9': 'for i in dir(complicated_function):\\n    print(i, \"is\", eval(\"complicated_function.\" + i))       # -NI-'}\n",
      "__gt__ is <method-wrapper '__gt__' of function object at 0x7f1c245a0040>\n",
      "__hash__ is <method-wrapper '__hash__' of function object at 0x7f1c245a0040>\n",
      "__init__ is <method-wrapper '__init__' of function object at 0x7f1c245a0040>\n",
      "__init_subclass__ is <built-in method __init_subclass__ of type object at 0x55b7351b1c00>\n",
      "__kwdefaults__ is None\n",
      "__le__ is <method-wrapper '__le__' of function object at 0x7f1c245a0040>\n",
      "__lt__ is <method-wrapper '__lt__' of function object at 0x7f1c245a0040>\n",
      "__module__ is __main__\n",
      "__name__ is complicated_function\n",
      "__ne__ is <method-wrapper '__ne__' of function object at 0x7f1c245a0040>\n",
      "__new__ is <built-in method __new__ of type object at 0x55b7351b1c00>\n",
      "__qualname__ is complicated_function\n",
      "__reduce__ is <built-in method __reduce__ of function object at 0x7f1c245a0040>\n",
      "__reduce_ex__ is <built-in method __reduce_ex__ of function object at 0x7f1c245a0040>\n",
      "__repr__ is <method-wrapper '__repr__' of function object at 0x7f1c245a0040>\n",
      "__setattr__ is <method-wrapper '__setattr__' of function object at 0x7f1c245a0040>\n",
      "__sizeof__ is <built-in method __sizeof__ of function object at 0x7f1c245a0040>\n",
      "__str__ is <method-wrapper '__str__' of function object at 0x7f1c245a0040>\n",
      "__subclasshook__ is <built-in method __subclasshook__ of type object at 0x55b7351b1c00>\n"
     ]
    }
   ],
   "source": [
    "for i in dir(complicated_function):\n",
    "    print(i, \"is\", eval(\"complicated_function.\" + i))       # -NI-"
   ]
  },
  {
   "cell_type": "code",
   "execution_count": null,
   "metadata": {},
   "outputs": [],
   "source": []
  }
 ],
 "metadata": {
  "kernelspec": {
   "display_name": "Python 3 (ipykernel)",
   "language": "python",
   "name": "python3"
  },
  "language_info": {
   "codemirror_mode": {
    "name": "ipython",
    "version": 3
   },
   "file_extension": ".py",
   "mimetype": "text/x-python",
   "name": "python",
   "nbconvert_exporter": "python",
   "pygments_lexer": "ipython3",
   "version": "3.9.7"
  }
 },
 "nbformat": 4,
 "nbformat_minor": 4
}
