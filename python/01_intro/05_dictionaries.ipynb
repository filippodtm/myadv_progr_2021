{
 "cells": [
  {
   "cell_type": "markdown",
   "metadata": {},
   "source": [
    "## Dictionaries (hash tables) aka `dict`s\n",
    "equivalente di std::unorderedmap\n",
    " - **unordered** set of pairs `key:value`\n",
    " - elements are accessed by `key` and not by offset (like lists and tuples)\n",
    " - `key` must be **hashable** (aka **immutable**) (e.g., boolean, integer, float, tuple, string, **not list**)\n",
    " - are mutable, so you can add, delete and change their `key:value` elements\n",
    " - highly optimized"
   ]
  },
  {
   "cell_type": "code",
   "execution_count": 2,
   "metadata": {},
   "outputs": [
    {
     "name": "stdout",
     "output_type": "stream",
     "text": [
      "<class 'dict'>\n"
     ]
    }
   ],
   "source": [
    "empty_dict = {}  # or empty_dict = dict()\n",
    "print(type(empty_dict))"
   ]
  },
  {
   "cell_type": "code",
   "execution_count": 1,
   "metadata": {},
   "outputs": [
    {
     "name": "stdout",
     "output_type": "stream",
     "text": [
      "{'Alberto': 32, 'Antonella': 21, 'Stefano': 42, 'Family': [4, 5, 32, 37]}\n"
     ]
    }
   ],
   "source": [
    "age_dict = {\"Alberto\": 32, \"Antonella\": 21, \"Stefano\": 42, \"Family\": [4, 5, 32, 37]}\n",
    "print(age_dict)"
   ]
  },
  {
   "cell_type": "markdown",
   "metadata": {},
   "source": [
    "### can be constructed in many ways\n",
    "- from list of tuples\n",
    "- from tuples of 2-element lists\n",
    "- dictionaries comprehensions"
   ]
  },
  {
   "cell_type": "code",
   "execution_count": 3,
   "metadata": {},
   "outputs": [
    {
     "name": "stdout",
     "output_type": "stream",
     "text": [
      "{'Alberto': 32, 'Antonella': 21, 'Stefano': 42, 'Family': [4, 5, 32, 37]}\n"
     ]
    }
   ],
   "source": [
    "lot = [(\"Alberto\", 32), (\"Antonella\", 21), (\"Stefano\", 42), (\"Family\", [4, 5, 32, 37])]\n",
    "age_dict = dict(lot)\n",
    "print(age_dict)"
   ]
  },
  {
   "cell_type": "code",
   "execution_count": 4,
   "metadata": {},
   "outputs": [
    {
     "name": "stdout",
     "output_type": "stream",
     "text": [
      "{'Alberto': 32, 'Antonella': 21, 'Stefano': 42, 'Family': [4, 5, 32, 37]}\n"
     ]
    }
   ],
   "source": [
    "tol = ([\"Alberto\", 32], [\"Antonella\", 21], [\"Stefano\", 42], [\"Family\", [4, 5, 32, 37]])\n",
    "age_dict = dict(tol)\n",
    "print(age_dict)"
   ]
  },
  {
   "cell_type": "code",
   "execution_count": 5,
   "metadata": {},
   "outputs": [
    {
     "data": {
      "text/plain": [
       "{'Alberto': 32, 'Antonella': 21, 'Stefano': 42, 'Family': [4, 5, 32, 37]}"
      ]
     },
     "execution_count": 5,
     "metadata": {},
     "output_type": "execute_result"
    }
   ],
   "source": [
    "d = dict(Alberto=32, Antonella=21, Stefano=42, Family=[4, 5, 32, 37])\n",
    "d"
   ]
  },
  {
   "cell_type": "code",
   "execution_count": 1,
   "metadata": {},
   "outputs": [
    {
     "name": "stdout",
     "output_type": "stream",
     "text": [
      "{'Alberto': 32, 'Antonella': 21, 'Stefano': 42, 'Family': [4, 5, 32, 37]}\n"
     ]
    }
   ],
   "source": [
    "names = [\"Alberto\", \"Antonella\", \"Stefano\", \"Family\"]\n",
    "ages = [32, 21, 42, [4, 5, 32, 37]]\n",
    "\n",
    "\n",
    "\n",
    "\n",
    "age_dict = {k: v for k, v in zip(names, ages)}\n",
    "print(age_dict)"
   ]
  },
  {
   "cell_type": "code",
   "execution_count": 7,
   "metadata": {},
   "outputs": [
    {
     "data": {
      "text/plain": [
       "{'Alberto': 32, 'Antonella': 21, 'Stefano': 42, 'Family': [4, 5, 32, 37]}"
      ]
     },
     "execution_count": 7,
     "metadata": {},
     "output_type": "execute_result"
    }
   ],
   "source": [
    "#oppure\n",
    "d = {}\n",
    "for name, age in zip(names, ages):\n",
    "    d[name] = age\n",
    "d"
   ]
  },
  {
   "cell_type": "markdown",
   "metadata": {
    "tags": []
   },
   "source": [
    "### Retrieve an element by `key`\n"
   ]
  },
  {
   "cell_type": "code",
   "execution_count": null,
   "metadata": {},
   "outputs": [],
   "source": [
    "print(\"age of Alberto\", age_dict[\"Alberto\"])\n",
    "age_dict[\"Alberto\"] += 1\n",
    "print(\"age of Alberto\", age_dict[\"Alberto\"])"
   ]
  },
  {
   "cell_type": "code",
   "execution_count": null,
   "metadata": {},
   "outputs": [],
   "source": [
    "print(age_dict[\"not in dict\"]) # error"
   ]
  },
  {
   "cell_type": "markdown",
   "metadata": {},
   "source": [
    "### better use `get` if a key can be not present"
   ]
  },
  {
   "cell_type": "code",
   "execution_count": 9,
   "metadata": {},
   "outputs": [
    {
     "name": "stdout",
     "output_type": "stream",
     "text": [
      "-1\n"
     ]
    },
    {
     "data": {
      "text/plain": [
       "{'Alberto': 32, 'Antonella': 21, 'Stefano': 42, 'Family': [4, 5, 32, 37]}"
      ]
     },
     "execution_count": 9,
     "metadata": {},
     "output_type": "execute_result"
    }
   ],
   "source": [
    "print(age_dict.get(\"not in dict\", -1))\n",
    "#age_dict"
   ]
  },
  {
   "cell_type": "markdown",
   "metadata": {},
   "source": [
    "### can add new keys with the `[ ]` operator"
   ]
  },
  {
   "cell_type": "code",
   "execution_count": null,
   "metadata": {},
   "outputs": [],
   "source": [
    "age_dict[\"New key\"] = 55"
   ]
  },
  {
   "cell_type": "markdown",
   "metadata": {},
   "source": [
    "### check if a key is (is not) in dict"
   ]
  },
  {
   "cell_type": "code",
   "execution_count": 10,
   "metadata": {},
   "outputs": [
    {
     "name": "stdout",
     "output_type": "stream",
     "text": [
      "True\n",
      "False\n",
      "True\n"
     ]
    }
   ],
   "source": [
    "print(\"Alberto\" in age_dict)\n",
    "print(\"Unknown\" in age_dict)\n",
    "print(\"Unknown\" not in age_dict)"
   ]
  },
  {
   "cell_type": "markdown",
   "metadata": {},
   "source": [
    "### quick look at the methods"
   ]
  },
  {
   "cell_type": "code",
   "execution_count": 11,
   "metadata": {
    "collapsed": true,
    "jupyter": {
     "outputs_hidden": true
    },
    "tags": []
   },
   "outputs": [
    {
     "name": "stdout",
     "output_type": "stream",
     "text": [
      "['__class__', '__class_getitem__', '__contains__', '__delattr__', '__delitem__', '__dir__', '__doc__', '__eq__', '__format__', '__ge__', '__getattribute__', '__getitem__', '__gt__', '__hash__', '__init__', '__init_subclass__', '__ior__', '__iter__', '__le__', '__len__', '__lt__', '__ne__', '__new__', '__or__', '__reduce__', '__reduce_ex__', '__repr__', '__reversed__', '__ror__', '__setattr__', '__setitem__', '__sizeof__', '__str__', '__subclasshook__', 'clear', 'copy', 'fromkeys', 'get', 'items', 'keys', 'pop', 'popitem', 'setdefault', 'update', 'values']\n"
     ]
    }
   ],
   "source": [
    "print(dir(age_dict))"
   ]
  },
  {
   "cell_type": "markdown",
   "metadata": {},
   "source": [
    "### Iterability"
   ]
  },
  {
   "cell_type": "code",
   "execution_count": null,
   "metadata": {},
   "outputs": [],
   "source": [
    "for k in age_dict:     #(meglio evitare) here k is a key \n",
    "    print(k, age_dict[k])"
   ]
  },
  {
   "cell_type": "markdown",
   "metadata": {},
   "source": [
    "#### loop over keys and/or values\n"
   ]
  },
  {
   "cell_type": "code",
   "execution_count": 2,
   "metadata": {},
   "outputs": [
    {
     "name": "stdout",
     "output_type": "stream",
     "text": [
      "Alberto\n",
      "Antonella\n",
      "Stefano\n",
      "Family\n",
      "32\n",
      "21\n",
      "42\n",
      "[4, 5, 32, 37]\n",
      "('Alberto', 32)\n",
      "('Antonella', 21)\n",
      "('Stefano', 42)\n",
      "('Family', [4, 5, 32, 37])\n",
      "Alberto 32\n",
      "Antonella 21\n",
      "Stefano 42\n",
      "Family [4, 5, 32, 37]\n"
     ]
    }
   ],
   "source": [
    "for k in age_dict.keys():\n",
    "    print(k)\n",
    "\n",
    "for v in age_dict.values():\n",
    "    print(v)\n",
    "\n",
    "for it in age_dict.items():\n",
    "    print(it)\n",
    "\n",
    "for k, v in age_dict.items():\n",
    "    print(k, v)"
   ]
  },
  {
   "cell_type": "markdown",
   "metadata": {},
   "source": [
    "### delete with `del` statement"
   ]
  },
  {
   "cell_type": "code",
   "execution_count": null,
   "metadata": {},
   "outputs": [],
   "source": [
    "del age_dict[\"Alberto\"]\n",
    "print(age_dict)"
   ]
  },
  {
   "cell_type": "markdown",
   "metadata": {},
   "source": [
    ".\n",
    "### `OrderedDict`s preserve order of insertion allowing iteration in a predictable order\n"
   ]
  },
  {
   "cell_type": "code",
   "execution_count": 12,
   "metadata": {},
   "outputs": [
    {
     "name": "stdout",
     "output_type": "stream",
     "text": [
      "{'a': 10, 'c': 1, 'b': 50}\n",
      "{'a': 10,\n",
      " 'b': 50,\n",
      " 'c': 1}\n"
     ]
    }
   ],
   "source": [
    "from pprint import pprint\n",
    "d ={'a':10, 'c':1, 'b':50}\n",
    "print(d)\n",
    "pprint(d, width=10)"
   ]
  },
  {
   "cell_type": "code",
   "execution_count": null,
   "metadata": {},
   "outputs": [],
   "source": [
    "for k,v in sorted(d.items(), reverse=True): # se gli do un container ordina in base alla prima componente(credo)\n",
    "    print(k, v)"
   ]
  },
  {
   "cell_type": "code",
   "execution_count": null,
   "metadata": {},
   "outputs": [],
   "source": []
  },
  {
   "cell_type": "code",
   "execution_count": null,
   "metadata": {},
   "outputs": [],
   "source": [
    "from collections import OrderedDict\n",
    "\n",
    "ordered_dict = OrderedDict(zip(names, ages))\n",
    "print(ordered_dict)"
   ]
  },
  {
   "cell_type": "code",
   "execution_count": null,
   "metadata": {},
   "outputs": [],
   "source": [
    "from collections import defaultdict"
   ]
  },
  {
   "cell_type": "markdown",
   "metadata": {},
   "source": [
    "### `defaultdict` useful for dealing with one-to-many"
   ]
  },
  {
   "cell_type": "code",
   "execution_count": 14,
   "metadata": {},
   "outputs": [
    {
     "data": {
      "text/plain": [
       "defaultdict(list, {})"
      ]
     },
     "execution_count": 14,
     "metadata": {},
     "output_type": "execute_result"
    }
   ],
   "source": [
    "from collections import defaultdict\n",
    "\n",
    "data = {\"paper-A\": [\"alberto\", \"luca\"], \"paper-B\": [\"luca\"]}\n",
    "d = defaultdict(list)\n",
    "d"
   ]
  },
  {
   "cell_type": "code",
   "execution_count": 15,
   "metadata": {},
   "outputs": [
    {
     "data": {
      "text/plain": [
       "defaultdict(list, {'alberto': ['paper-A'], 'luca': ['paper-A', 'paper-B']})"
      ]
     },
     "execution_count": 15,
     "metadata": {},
     "output_type": "execute_result"
    }
   ],
   "source": [
    "for k, v in data.items():\n",
    "    for a in v:\n",
    "        d[a].append(k)           #NI\n",
    "d"
   ]
  },
  {
   "cell_type": "code",
   "execution_count": null,
   "metadata": {},
   "outputs": [],
   "source": [
    "d = dict(d)\n",
    "d"
   ]
  }
 ],
 "metadata": {
  "kernelspec": {
   "display_name": "Python 3 (ipykernel)",
   "language": "python",
   "name": "python3"
  },
  "language_info": {
   "codemirror_mode": {
    "name": "ipython",
    "version": 3
   },
   "file_extension": ".py",
   "mimetype": "text/x-python",
   "name": "python",
   "nbconvert_exporter": "python",
   "pygments_lexer": "ipython3",
   "version": "3.9.7"
  }
 },
 "nbformat": 4,
 "nbformat_minor": 4
}
